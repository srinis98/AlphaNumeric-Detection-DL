{
 "cells": [
  {
   "cell_type": "markdown",
   "metadata": {},
   "source": [
    "## Prediction \n",
    "\n",
    "The input to 'predict_image_class' function is an 1D array of 785 pixels, column major ordering.\n",
    "The fuction prints the character predicted by the model."
   ]
  },
  {
   "cell_type": "code",
   "execution_count": 1,
   "metadata": {},
   "outputs": [],
   "source": [
    "from tensorflow.keras.models import load_model\n",
    "import pandas as pd\n",
    "import numpy as np"
   ]
  },
  {
   "cell_type": "code",
   "execution_count": 14,
   "metadata": {},
   "outputs": [],
   "source": [
    "model = load_model('task2_v1.h5')\n",
    "\n",
    "mapping_df = mapping_df = pd.read_csv('characters-digits-mapping.txt',header=None,delimiter = ' ')\n",
    "mapping_df['class_name'] = mapping_df[1].apply(chr)\n",
    "mapping_dict = dict(zip(mapping_df[0], mapping_df.class_name))"
   ]
  },
  {
   "cell_type": "code",
   "execution_count": 22,
   "metadata": {},
   "outputs": [],
   "source": [
    "def predict_image_class(image):\n",
    "    input_image = image.reshape(1,28,28,1,order = 'F') \n",
    "    prediction = model.predict_classes(input_image)\n",
    "    print(prediction)\n",
    "    return (np.vectorize(mapping_dict.get)(prediction))"
   ]
  },
  {
   "cell_type": "code",
   "execution_count": null,
   "metadata": {},
   "outputs": [],
   "source": [
    "# pass the image to predict_image_class() here\n",
    "\n",
    "predict_image_class('numpy/array/to/be/passed/here')"
   ]
  },
  {
   "cell_type": "code",
   "execution_count": 4,
   "metadata": {},
   "outputs": [],
   "source": [
    "# passing values from the test data :\n",
    "DATASET_PATH = r'..\\Character + Digits data\\\\'\n",
    "\n",
    "test_data = pd.read_csv(DATASET_PATH+'characters-digits-test.csv',header=None)\n",
    "test_labels,test_images = test_data.iloc[:,0].values, test_data.iloc[:,1:].values"
   ]
  },
  {
   "cell_type": "code",
   "execution_count": 24,
   "metadata": {},
   "outputs": [
    {
     "name": "stdout",
     "output_type": "stream",
     "text": [
      "[41]\n",
      "['g'] g\n"
     ]
    }
   ],
   "source": [
    "print(predict_image_class(test_images[0]) , np.vectorize(mapping_dict.get)(test_labels[0]))"
   ]
  }
 ],
 "metadata": {
  "kernelspec": {
   "display_name": "Python 3",
   "language": "python",
   "name": "python3"
  },
  "language_info": {
   "codemirror_mode": {
    "name": "ipython",
    "version": 3
   },
   "file_extension": ".py",
   "mimetype": "text/x-python",
   "name": "python",
   "nbconvert_exporter": "python",
   "pygments_lexer": "ipython3",
   "version": "3.7.6"
  }
 },
 "nbformat": 4,
 "nbformat_minor": 4
}
